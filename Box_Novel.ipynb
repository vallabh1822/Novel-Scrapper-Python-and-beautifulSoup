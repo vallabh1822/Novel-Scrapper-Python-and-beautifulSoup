{
 "cells": [
  {
   "cell_type": "code",
   "execution_count": 1,
   "metadata": {},
   "outputs": [],
   "source": [
    "#import autoreload\n",
    "%load_ext autoreload\n",
    "%autoreload 2"
   ]
  },
  {
   "cell_type": "code",
   "execution_count": 14,
   "metadata": {},
   "outputs": [],
   "source": [
    "\n",
    "import Boxnovel_scrapper as bsp"
   ]
  },
  {
   "cell_type": "code",
   "execution_count": 9,
   "metadata": {},
   "outputs": [
    {
     "name": "stdout",
     "output_type": "stream",
     "text": [
      "enter Novel name as copied from boxnovel.com:Eternal Sacred King\n"
     ]
    }
   ],
   "source": [
    "name = input(\"enter Novel name as copied from boxnovel.com:\")\n"
   ]
  },
  {
   "cell_type": "code",
   "execution_count": 11,
   "metadata": {},
   "outputs": [
    {
     "name": "stdout",
     "output_type": "stream",
     "text": [
      "enter start chapter:451\n",
      "enter end chapter to download:501\n",
      "enter your acceptable delay time is sec :8\n",
      "download Eternal Sacred King chapters from 451 to 501\n"
     ]
    }
   ],
   "source": [
    "start= int(input(\"enter start chapter:\"))\n",
    "end= int(input(\"enter end chapter to download:\"))\n",
    "delay=  int(input(\"enter your acceptable delay time is sec :\"))\n",
    "print(\"download {} chapters from {} to {}\".format(name, start, end))"
   ]
  },
  {
   "cell_type": "code",
   "execution_count": null,
   "metadata": {},
   "outputs": [
    {
     "name": "stdout",
     "output_type": "stream",
     "text": [
      "37.254901960784316 % Completed\n"
     ]
    }
   ],
   "source": [
    "outFile=bsp.BoxNovelScrape(start, end+1, name= name,delay=delay)\n"
   ]
  },
  {
   "cell_type": "code",
   "execution_count": 9,
   "metadata": {},
   "outputs": [],
   "source": []
  },
  {
   "cell_type": "code",
   "execution_count": null,
   "metadata": {},
   "outputs": [],
   "source": [
    "\n"
   ]
  }
 ],
 "metadata": {
  "kernelspec": {
   "display_name": "Python 3 (ipykernel)",
   "language": "python",
   "name": "python3"
  },
  "language_info": {
   "codemirror_mode": {
    "name": "ipython",
    "version": 3
   },
   "file_extension": ".py",
   "mimetype": "text/x-python",
   "name": "python",
   "nbconvert_exporter": "python",
   "pygments_lexer": "ipython3",
   "version": "3.9.7"
  }
 },
 "nbformat": 4,
 "nbformat_minor": 4
}
